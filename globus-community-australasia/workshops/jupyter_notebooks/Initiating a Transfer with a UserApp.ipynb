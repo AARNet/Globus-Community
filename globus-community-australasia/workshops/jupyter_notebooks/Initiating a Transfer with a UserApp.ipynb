{
 "cells": [
  {
   "cell_type": "code",
   "execution_count": null,
   "id": "f2e2851b-f1d1-4650-8c53-911bd4a9ffa2",
   "metadata": {},
   "outputs": [],
   "source": [
    "# Initiating a Transfer using a UserApp\n",
    "# Derived from https://globus-sdk-python.readthedocs.io/en/stable/user_guide/usage_patterns/data_transfer/submit_transfer/index.html"
   ]
  },
  {
   "cell_type": "code",
   "execution_count": null,
   "id": "da8ccb5d-e381-4ef8-95e5-f6c056c0cdf7",
   "metadata": {},
   "outputs": [],
   "source": [
    "import globus_sdk\n",
    "from globus_sdk.globus_app import UserApp\n",
    "\n",
    "# UserApp Client ID - <replace this with your own UserApp client UUID>\n",
    "NATIVE_CLIENT_ID = \"26cb79d2-4bd6-4ec1-bba1-98b52344cf74\"\n",
    "USER_APP = UserApp(\"my-simple-transfer\", client_id=NATIVE_CLIENT_ID)\n",
    "\n",
    "# AARNet Sydney Read-only Test Collection\n",
    "# https://app.globus.org/file-manager/collections/481dde3c-15cc-4521-befa-68a37a2346f8\n",
    "SRC_COLLECTION = \"481dde3c-15cc-4521-befa-68a37a2346f8\"\n",
    "SRC_PATH = \"/standard_test_files/1M.dat\"\n",
    "\n",
    "# Enter the UUID for your RW Guest Collection\n",
    "DST_COLLECTION = \"<dest_collection_uuid>\"\n",
    "DST_PATH = \"/1M.dat\"\n",
    "\n",
    "\n",
    "def main():\n",
    "    transfer_client = globus_sdk.TransferClient(app=USER_APP)\n",
    "\n",
    "    # Comment out each of these lines if the referenced collection is either\n",
    "    #   (1) A guest collection or (2) high assurance.\n",
    "    # transfer_client.add_app_data_access_scope(SRC_COLLECTION)\n",
    "    # transfer_client.add_app_data_access_scope(DST_COLLECTION)\n",
    "\n",
    "    transfer_request = globus_sdk.TransferData(\n",
    "        source_endpoint=SRC_COLLECTION,\n",
    "        destination_endpoint=DST_COLLECTION,\n",
    "    )\n",
    "    transfer_request.add_item(SRC_PATH, DST_PATH)\n",
    "\n",
    "    task = transfer_client.submit_transfer(transfer_request)\n",
    "    print(f\"Submitted transfer. Task ID: {task['task_id']}.\")\n",
    "\n",
    "\n",
    "main()"
   ]
  },
  {
   "cell_type": "code",
   "execution_count": null,
   "id": "bdd21c64-b1eb-4891-974c-cc6af7a7bee4",
   "metadata": {},
   "outputs": [],
   "source": []
  }
 ],
 "metadata": {
  "kernelspec": {
   "display_name": "Python 3 (ipykernel)",
   "language": "python",
   "name": "python3"
  },
  "language_info": {
   "codemirror_mode": {
    "name": "ipython",
    "version": 3
   },
   "file_extension": ".py",
   "mimetype": "text/x-python",
   "name": "python",
   "nbconvert_exporter": "python",
   "pygments_lexer": "ipython3",
   "version": "3.9.21"
  }
 },
 "nbformat": 4,
 "nbformat_minor": 5
}
